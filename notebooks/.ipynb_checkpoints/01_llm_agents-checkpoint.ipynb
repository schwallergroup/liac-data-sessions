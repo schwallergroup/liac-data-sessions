{
 "cells": [
  {
   "cell_type": "markdown",
   "id": "fdcdaf67-646e-4cf1-8ddf-20aa788e5cde",
   "metadata": {
    "tags": []
   },
   "source": [
    "# Chaining LLMs\n",
    "\n",
    "<center><img src=\"tweet_langchain.jpg\" width=400 display=\"block\"></center>\n",
    "\n",
    "\n",
    "# So what is langchain?\n",
    "\n",
    "#### Langchain is a framework for developing applications powered by language models.\n",
    "\n",
    "\n",
    "It aims to:\n",
    "\n",
    "- Be data-aware: connect a language model to other sources of data\n",
    "\n",
    "- Be agentic: allow a language model to interact with its environment"
   ]
  },
  {
   "cell_type": "code",
   "execution_count": 1,
   "id": "48ce195c-be00-45a0-910f-36d83135177f",
   "metadata": {},
   "outputs": [
    {
     "name": "stdout",
     "output_type": "stream",
     "text": [
      "Collecting langchain\n",
      "  Downloading langchain-0.0.139-py3-none-any.whl (530 kB)\n",
      "\u001b[2K     \u001b[90m━━━━━━━━━━━━━━━━━━━━━━━━━━━━━━━━━━━━━━\u001b[0m \u001b[32m530.5/530.5 kB\u001b[0m \u001b[31m10.2 MB/s\u001b[0m eta \u001b[36m0:00:00\u001b[0m00:01\u001b[0m\n",
      "\u001b[?25hCollecting openai\n",
      "  Using cached openai-0.27.4-py3-none-any.whl (70 kB)\n",
      "Collecting wikipedia\n",
      "  Using cached wikipedia-1.4.0.tar.gz (27 kB)\n",
      "  Preparing metadata (setup.py) ... \u001b[?25ldone\n",
      "\u001b[?25hCollecting rdkit\n",
      "  Downloading rdkit-2022.9.5-cp310-cp310-manylinux_2_17_x86_64.manylinux2014_x86_64.whl (29.4 MB)\n",
      "\u001b[2K     \u001b[90m━━━━━━━━━━━━━━━━━━━━━━━━━━━━━━━━━━━━━━━━\u001b[0m \u001b[32m29.4/29.4 MB\u001b[0m \u001b[31m60.8 MB/s\u001b[0m eta \u001b[36m0:00:00\u001b[0m00:01\u001b[0m00:01\u001b[0m\n",
      "\u001b[?25hCollecting tenacity<9.0.0,>=8.1.0\n",
      "  Using cached tenacity-8.2.2-py3-none-any.whl (24 kB)\n",
      "Requirement already satisfied: SQLAlchemy<2,>=1 in /home/andres/anaconda3/lib/python3.10/site-packages (from langchain) (1.4.39)\n",
      "Collecting dataclasses-json<0.6.0,>=0.5.7\n",
      "  Using cached dataclasses_json-0.5.7-py3-none-any.whl (25 kB)\n",
      "Requirement already satisfied: PyYAML>=5.4.1 in /home/andres/anaconda3/lib/python3.10/site-packages (from langchain) (6.0)\n",
      "Requirement already satisfied: numpy<2,>=1 in /home/andres/anaconda3/lib/python3.10/site-packages (from langchain) (1.23.5)\n",
      "Collecting gptcache>=0.1.7\n",
      "  Downloading gptcache-0.1.10-py3-none-any.whl (44 kB)\n",
      "\u001b[2K     \u001b[90m━━━━━━━━━━━━━━━━━━━━━━━━━━━━━━━━━━━━━━━━\u001b[0m \u001b[32m44.9/44.9 kB\u001b[0m \u001b[31m5.0 MB/s\u001b[0m eta \u001b[36m0:00:00\u001b[0m\n",
      "\u001b[?25hCollecting openapi-schema-pydantic<2.0,>=1.2\n",
      "  Using cached openapi_schema_pydantic-1.2.4-py3-none-any.whl (90 kB)\n",
      "Collecting pydantic<2,>=1\n",
      "  Using cached pydantic-1.10.7-cp310-cp310-manylinux_2_17_x86_64.manylinux2014_x86_64.whl (3.1 MB)\n",
      "Requirement already satisfied: requests<3,>=2 in /home/andres/anaconda3/lib/python3.10/site-packages (from langchain) (2.28.1)\n",
      "Collecting async-timeout<5.0.0,>=4.0.0\n",
      "  Using cached async_timeout-4.0.2-py3-none-any.whl (5.8 kB)\n",
      "Collecting aiohttp<4.0.0,>=3.8.3\n",
      "  Using cached aiohttp-3.8.4-cp310-cp310-manylinux_2_17_x86_64.manylinux2014_x86_64.whl (1.0 MB)\n",
      "Requirement already satisfied: tqdm in /home/andres/anaconda3/lib/python3.10/site-packages (from openai) (4.64.1)\n",
      "Requirement already satisfied: beautifulsoup4 in /home/andres/anaconda3/lib/python3.10/site-packages (from wikipedia) (4.11.1)\n",
      "Requirement already satisfied: Pillow in /home/andres/anaconda3/lib/python3.10/site-packages (from rdkit) (9.4.0)\n",
      "Collecting yarl<2.0,>=1.0\n",
      "  Using cached yarl-1.8.2-cp310-cp310-manylinux_2_17_x86_64.manylinux2014_x86_64.whl (264 kB)\n",
      "Collecting multidict<7.0,>=4.5\n",
      "  Using cached multidict-6.0.4-cp310-cp310-manylinux_2_17_x86_64.manylinux2014_x86_64.whl (114 kB)\n",
      "Collecting aiosignal>=1.1.2\n",
      "  Using cached aiosignal-1.3.1-py3-none-any.whl (7.6 kB)\n",
      "Collecting frozenlist>=1.1.1\n",
      "  Using cached frozenlist-1.3.3-cp310-cp310-manylinux_2_5_x86_64.manylinux1_x86_64.manylinux_2_17_x86_64.manylinux2014_x86_64.whl (149 kB)\n",
      "Requirement already satisfied: attrs>=17.3.0 in /home/andres/anaconda3/lib/python3.10/site-packages (from aiohttp<4.0.0,>=3.8.3->langchain) (22.1.0)\n",
      "Requirement already satisfied: charset-normalizer<4.0,>=2.0 in /home/andres/anaconda3/lib/python3.10/site-packages (from aiohttp<4.0.0,>=3.8.3->langchain) (2.0.4)\n",
      "Collecting marshmallow-enum<2.0.0,>=1.5.1\n",
      "  Using cached marshmallow_enum-1.5.1-py2.py3-none-any.whl (4.2 kB)\n",
      "Collecting typing-inspect>=0.4.0\n",
      "  Using cached typing_inspect-0.8.0-py3-none-any.whl (8.7 kB)\n",
      "Collecting marshmallow<4.0.0,>=3.3.0\n",
      "  Using cached marshmallow-3.19.0-py3-none-any.whl (49 kB)\n",
      "Collecting cachetools\n",
      "  Using cached cachetools-5.3.0-py3-none-any.whl (9.3 kB)\n",
      "Requirement already satisfied: typing-extensions>=4.2.0 in /home/andres/anaconda3/lib/python3.10/site-packages (from pydantic<2,>=1->langchain) (4.4.0)\n",
      "Requirement already satisfied: urllib3<1.27,>=1.21.1 in /home/andres/anaconda3/lib/python3.10/site-packages (from requests<3,>=2->langchain) (1.26.14)\n",
      "Requirement already satisfied: certifi>=2017.4.17 in /home/andres/anaconda3/lib/python3.10/site-packages (from requests<3,>=2->langchain) (2022.12.7)\n",
      "Requirement already satisfied: idna<4,>=2.5 in /home/andres/anaconda3/lib/python3.10/site-packages (from requests<3,>=2->langchain) (3.4)\n",
      "Requirement already satisfied: greenlet!=0.4.17 in /home/andres/anaconda3/lib/python3.10/site-packages (from SQLAlchemy<2,>=1->langchain) (2.0.1)\n",
      "Requirement already satisfied: soupsieve>1.2 in /home/andres/anaconda3/lib/python3.10/site-packages (from beautifulsoup4->wikipedia) (2.3.2.post1)\n",
      "Requirement already satisfied: packaging>=17.0 in /home/andres/anaconda3/lib/python3.10/site-packages (from marshmallow<4.0.0,>=3.3.0->dataclasses-json<0.6.0,>=0.5.7->langchain) (22.0)\n",
      "Requirement already satisfied: mypy-extensions>=0.3.0 in /home/andres/anaconda3/lib/python3.10/site-packages (from typing-inspect>=0.4.0->dataclasses-json<0.6.0,>=0.5.7->langchain) (0.4.3)\n",
      "Building wheels for collected packages: wikipedia\n",
      "  Building wheel for wikipedia (setup.py) ... \u001b[?25ldone\n",
      "\u001b[?25h  Created wheel for wikipedia: filename=wikipedia-1.4.0-py3-none-any.whl size=11680 sha256=4e645b493f9e70b16ff3c52336a553ee086f7806e78cc668016e71408b699238\n",
      "  Stored in directory: /home/andres/.cache/pip/wheels/b2/7f/26/524faff9145e274da278dc97d63ab0bfde1f791ecf101a9c95\n",
      "Successfully built wikipedia\n",
      "Installing collected packages: typing-inspect, tenacity, rdkit, pydantic, multidict, marshmallow, frozenlist, cachetools, async-timeout, yarl, wikipedia, openapi-schema-pydantic, marshmallow-enum, aiosignal, dataclasses-json, aiohttp, openai, gptcache, langchain\n",
      "  Attempting uninstall: tenacity\n",
      "    Found existing installation: tenacity 8.0.1\n",
      "    Uninstalling tenacity-8.0.1:\n",
      "      Successfully uninstalled tenacity-8.0.1\n",
      "Successfully installed aiohttp-3.8.4 aiosignal-1.3.1 async-timeout-4.0.2 cachetools-5.3.0 dataclasses-json-0.5.7 frozenlist-1.3.3 gptcache-0.1.10 langchain-0.0.139 marshmallow-3.19.0 marshmallow-enum-1.5.1 multidict-6.0.4 openai-0.27.4 openapi-schema-pydantic-1.2.4 pydantic-1.10.7 rdkit-2022.9.5 tenacity-8.2.2 typing-inspect-0.8.0 wikipedia-1.4.0 yarl-1.8.2\n"
     ]
    }
   ],
   "source": [
    "!pip install langchain openai wikipedia rdkit\n",
    "\n",
    "OPENAI_API_KEY = \"\""
   ]
  },
  {
   "cell_type": "code",
   "execution_count": 2,
   "id": "1a18dc41-93a0-4c98-a9f7-8c558480af33",
   "metadata": {},
   "outputs": [],
   "source": [
    "import os\n",
    "from utils import *\n",
    "from langchain import (\n",
    "    PromptTemplate,\n",
    "    OpenAI,\n",
    "    chat_models,\n",
    "    chains\n",
    ")"
   ]
  },
  {
   "cell_type": "markdown",
   "id": "2a9c30e2-2aee-45e0-bb21-a56be802a636",
   "metadata": {},
   "source": [
    "# Prompt Templates"
   ]
  },
  {
   "cell_type": "code",
   "execution_count": 3,
   "id": "324d771e-4c9b-4c5e-8a8c-a690d0275628",
   "metadata": {},
   "outputs": [],
   "source": [
    "# First, define a prompt template\n",
    "prompt_template = PromptTemplate(\n",
    "    input_variables = [\"smiles\"],\n",
    "    template = (\n",
    "        \"What functional groups are present in this molecule? {smiles}. \"\n",
    "        \"This molecule contains the following functional groups:\"\n",
    "    )\n",
    ")"
   ]
  },
  {
   "cell_type": "code",
   "execution_count": 4,
   "id": "7e44c57d-2b98-4f47-9744-74cdc33a8048",
   "metadata": {},
   "outputs": [
    {
     "data": {
      "text/html": [
       "<?xml version='1.0' encoding='UTF-8'?>\n",
       "<!DOCTYPE svg PUBLIC \"-//W3C//DTD SVG 1.1//EN\" \"http://www.w3.org/Graphics/SVG/1.1/DTD/svg11.dtd\">\n",
       "<svg version='1.2' xmlns='http://www.w3.org/2000/svg' xmlns:xlink='http://www.w3.org/1999/xlink' width='250.0mm' height='50.0mm' viewBox='0 0 250.0 50.0'>\n",
       "  <desc>Generated by the Chemistry Development Kit (http://github.com/cdk)</desc>\n",
       "  <g stroke-linecap='round' stroke-linejoin='round' stroke='#000000' stroke-width='.42' fill='#000000'>\n",
       "    <rect x='.0' y='.0' width='250.0' height='50.0' fill='rgba(0,0,0,0.00)' stroke='none'/>\n",
       "    <g id='mol1' class='mol'>\n",
       "      <line id='mol1bnd1' class='bond' x1='108.66' y1='20.1' x2='100.87' y2='15.59'/>\n",
       "      <g id='mol1bnd2' class='bond'>\n",
       "        <line x1='117.47' y1='15.02' x2='108.66' y2='20.1'/>\n",
       "        <line x1='117.47' y1='16.89' x2='110.29' y2='21.04'/>\n",
       "      </g>\n",
       "      <line id='mol1bnd3' class='bond' x1='117.47' y1='15.02' x2='126.28' y2='20.1'/>\n",
       "      <g id='mol1bnd4' class='bond'>\n",
       "        <line x1='126.28' y1='30.26' x2='126.28' y2='20.1'/>\n",
       "        <line x1='124.65' y1='29.32' x2='124.65' y2='21.04'/>\n",
       "      </g>\n",
       "      <line id='mol1bnd5' class='bond' x1='126.28' y1='30.26' x2='135.07' y2='35.34'/>\n",
       "      <line id='mol1bnd6' class='bond' x1='135.07' y1='35.34' x2='143.87' y2='30.26'/>\n",
       "      <g id='mol1bnd7' class='bond'>\n",
       "        <line x1='143.87' y1='29.32' x2='150.71' y2='33.27'/>\n",
       "        <line x1='143.06' y1='30.73' x2='149.9' y2='34.68'/>\n",
       "      </g>\n",
       "      <line id='mol1bnd8' class='bond' x1='143.87' y1='30.26' x2='143.87' y2='22.86'/>\n",
       "      <line id='mol1bnd9' class='bond' x1='126.28' y1='30.26' x2='117.47' y2='35.34'/>\n",
       "      <g id='mol1bnd10' class='bond'>\n",
       "        <line x1='108.66' y1='30.26' x2='117.47' y2='35.34'/>\n",
       "        <line x1='110.29' y1='29.32' x2='117.47' y2='33.46'/>\n",
       "      </g>\n",
       "      <line id='mol1bnd11' class='bond' x1='108.66' y1='20.1' x2='108.66' y2='30.26'/>\n",
       "      <path id='mol1atm2' class='atom' d='M96.12 14.67v1.36h.8q.41 .0 .6 -.17q.19 -.17 .19 -.51q.0 -.35 -.19 -.51q-.19 -.16 -.6 -.16h-.8zM96.12 13.16v1.11h.74q.36 .0 .54 -.14q.18 -.14 .18 -.42q.0 -.28 -.18 -.42q-.18 -.14 -.54 -.14h-.74zM95.62 12.74h1.27q.57 .0 .88 .24q.31 .24 .31 .68q.0 .34 -.16 .54q-.16 .2 -.47 .25q.37 .08 .57 .33q.2 .25 .2 .63q.0 .49 -.34 .76q-.34 .27 -.96 .27h-1.32v-3.69zM100.68 14.09q-.08 -.04 -.17 -.06q-.09 -.02 -.2 -.02q-.38 .0 -.59 .25q-.21 .25 -.21 .72v1.46h-.46v-2.77h.46v.43q.14 -.26 .37 -.38q.23 -.12 .56 -.12q.05 .0 .1 .01q.05 .01 .13 .02v.47z' stroke='none'/>\n",
       "      <path id='mol1atm8' class='atom' d='M152.67 33.83q-.55 .0 -.87 .4q-.32 .4 -.32 1.1q.0 .7 .32 1.1q.32 .4 .87 .4q.54 .0 .86 -.4q.32 -.4 .32 -1.1q.0 -.7 -.32 -1.1q-.32 -.4 -.86 -.4zM152.67 33.43q.77 .0 1.24 .52q.47 .52 .47 1.39q.0 .88 -.47 1.4q-.47 .52 -1.24 .52q-.78 .0 -1.24 -.52q-.47 -.52 -.47 -1.4q.0 -.87 .47 -1.39q.47 -.52 1.24 -.52z' stroke='none'/>\n",
       "      <path id='mol1atm9' class='atom' d='M145.36 18.54v.53q-.26 -.24 -.54 -.35q-.28 -.12 -.61 -.12q-.63 .0 -.97 .39q-.34 .39 -.34 1.12q.0 .73 .34 1.12q.34 .39 .97 .39q.32 .0 .61 -.12q.28 -.12 .54 -.35v.52q-.26 .18 -.55 .27q-.29 .09 -.62 .09q-.84 .0 -1.32 -.51q-.48 -.51 -.48 -1.4q.0 -.89 .48 -1.4q.48 -.51 1.32 -.51q.33 .0 .62 .09q.29 .09 .55 .26zM146.11 18.1h.46v3.84h-.46v-3.84z' stroke='none'/>\n",
       "    </g>\n",
       "  </g>\n",
       "</svg>\n"
      ],
      "text/plain": [
       "<IPython.core.display.HTML object>"
      ]
     },
     "metadata": {},
     "output_type": "display_data"
    },
    {
     "data": {
      "text/plain": [
       "'What functional groups are present in this molecule? c1(Br)ccc(CC(=O)Cl)cc1. This molecule contains the following functional groups:'"
      ]
     },
     "execution_count": 4,
     "metadata": {},
     "output_type": "execute_result"
    }
   ],
   "source": [
    "smiles = \"c1(Br)ccc(CC(=O)Cl)cc1\"\n",
    "\n",
    "cdk(smiles)\n",
    "prompt_template.format(smiles=smiles)"
   ]
  },
  {
   "cell_type": "markdown",
   "id": "c269ceda-f18f-45ae-86e2-8c0e2460f680",
   "metadata": {},
   "source": [
    "# Language Models"
   ]
  },
  {
   "cell_type": "code",
   "execution_count": 5,
   "id": "bbf66704-e258-42d5-b30d-da5d2334313a",
   "metadata": {},
   "outputs": [
    {
     "name": "stdout",
     "output_type": "stream",
     "text": [
      "\n",
      "\n",
      "Hi LIAC! It's nice to meet you!\n"
     ]
    }
   ],
   "source": [
    "# Let's now define a language model.\n",
    "\n",
    "llm = OpenAI(\n",
    "    model_name=\"text-davinci-003\",\n",
    "    temperature=0.03,\n",
    "    openai_api_key = OPENAI_API_KEY,\n",
    ")\n",
    "\n",
    "print(llm.generate(prompts=[\n",
    "    \"LIAC is a research group and we're doing a tutorial. Your task is to say hi to LIAC!\"\n",
    "]).generations[0][0].text)"
   ]
  },
  {
   "cell_type": "markdown",
   "id": "68546bd4-90aa-4860-90cc-bcddebe327ea",
   "metadata": {},
   "source": [
    "# Putting it together: Chains"
   ]
  },
  {
   "cell_type": "code",
   "execution_count": 6,
   "id": "ce53deb9-5043-4788-ad34-beaa4f05eb69",
   "metadata": {},
   "outputs": [
    {
     "data": {
      "text/html": [
       "<?xml version='1.0' encoding='UTF-8'?>\n",
       "<!DOCTYPE svg PUBLIC \"-//W3C//DTD SVG 1.1//EN\" \"http://www.w3.org/Graphics/SVG/1.1/DTD/svg11.dtd\">\n",
       "<svg version='1.2' xmlns='http://www.w3.org/2000/svg' xmlns:xlink='http://www.w3.org/1999/xlink' width='250.0mm' height='50.0mm' viewBox='0 0 250.0 50.0'>\n",
       "  <desc>Generated by the Chemistry Development Kit (http://github.com/cdk)</desc>\n",
       "  <g stroke-linecap='round' stroke-linejoin='round' stroke='#000000' stroke-width='.42' fill='#000000'>\n",
       "    <rect x='.0' y='.0' width='250.0' height='50.0' fill='rgba(0,0,0,0.00)' stroke='none'/>\n",
       "    <g id='mol1' class='mol'>\n",
       "      <line id='mol1bnd1' class='bond' x1='108.66' y1='20.1' x2='100.87' y2='15.59'/>\n",
       "      <g id='mol1bnd2' class='bond'>\n",
       "        <line x1='117.47' y1='15.02' x2='108.66' y2='20.1'/>\n",
       "        <line x1='117.47' y1='16.89' x2='110.29' y2='21.04'/>\n",
       "      </g>\n",
       "      <line id='mol1bnd3' class='bond' x1='117.47' y1='15.02' x2='126.28' y2='20.1'/>\n",
       "      <g id='mol1bnd4' class='bond'>\n",
       "        <line x1='126.28' y1='30.26' x2='126.28' y2='20.1'/>\n",
       "        <line x1='124.65' y1='29.32' x2='124.65' y2='21.04'/>\n",
       "      </g>\n",
       "      <line id='mol1bnd5' class='bond' x1='126.28' y1='30.26' x2='135.07' y2='35.34'/>\n",
       "      <line id='mol1bnd6' class='bond' x1='135.07' y1='35.34' x2='143.87' y2='30.26'/>\n",
       "      <g id='mol1bnd7' class='bond'>\n",
       "        <line x1='143.87' y1='29.32' x2='150.71' y2='33.27'/>\n",
       "        <line x1='143.06' y1='30.73' x2='149.9' y2='34.68'/>\n",
       "      </g>\n",
       "      <line id='mol1bnd8' class='bond' x1='143.87' y1='30.26' x2='143.87' y2='22.86'/>\n",
       "      <line id='mol1bnd9' class='bond' x1='126.28' y1='30.26' x2='117.47' y2='35.34'/>\n",
       "      <g id='mol1bnd10' class='bond'>\n",
       "        <line x1='108.66' y1='30.26' x2='117.47' y2='35.34'/>\n",
       "        <line x1='110.29' y1='29.32' x2='117.47' y2='33.46'/>\n",
       "      </g>\n",
       "      <line id='mol1bnd11' class='bond' x1='108.66' y1='20.1' x2='108.66' y2='30.26'/>\n",
       "      <path id='mol1atm2' class='atom' d='M96.12 14.67v1.36h.8q.41 .0 .6 -.17q.19 -.17 .19 -.51q.0 -.35 -.19 -.51q-.19 -.16 -.6 -.16h-.8zM96.12 13.16v1.11h.74q.36 .0 .54 -.14q.18 -.14 .18 -.42q.0 -.28 -.18 -.42q-.18 -.14 -.54 -.14h-.74zM95.62 12.74h1.27q.57 .0 .88 .24q.31 .24 .31 .68q.0 .34 -.16 .54q-.16 .2 -.47 .25q.37 .08 .57 .33q.2 .25 .2 .63q.0 .49 -.34 .76q-.34 .27 -.96 .27h-1.32v-3.69zM100.68 14.09q-.08 -.04 -.17 -.06q-.09 -.02 -.2 -.02q-.38 .0 -.59 .25q-.21 .25 -.21 .72v1.46h-.46v-2.77h.46v.43q.14 -.26 .37 -.38q.23 -.12 .56 -.12q.05 .0 .1 .01q.05 .01 .13 .02v.47z' stroke='none'/>\n",
       "      <path id='mol1atm8' class='atom' d='M152.67 33.83q-.55 .0 -.87 .4q-.32 .4 -.32 1.1q.0 .7 .32 1.1q.32 .4 .87 .4q.54 .0 .86 -.4q.32 -.4 .32 -1.1q.0 -.7 -.32 -1.1q-.32 -.4 -.86 -.4zM152.67 33.43q.77 .0 1.24 .52q.47 .52 .47 1.39q.0 .88 -.47 1.4q-.47 .52 -1.24 .52q-.78 .0 -1.24 -.52q-.47 -.52 -.47 -1.4q.0 -.87 .47 -1.39q.47 -.52 1.24 -.52z' stroke='none'/>\n",
       "      <path id='mol1atm9' class='atom' d='M145.36 18.54v.53q-.26 -.24 -.54 -.35q-.28 -.12 -.61 -.12q-.63 .0 -.97 .39q-.34 .39 -.34 1.12q.0 .73 .34 1.12q.34 .39 .97 .39q.32 .0 .61 -.12q.28 -.12 .54 -.35v.52q-.26 .18 -.55 .27q-.29 .09 -.62 .09q-.84 .0 -1.32 -.51q-.48 -.51 -.48 -1.4q.0 -.89 .48 -1.4q.48 -.51 1.32 -.51q.33 .0 .62 .09q.29 .09 .55 .26zM146.11 18.1h.46v3.84h-.46v-3.84z' stroke='none'/>\n",
       "    </g>\n",
       "  </g>\n",
       "</svg>\n"
      ],
      "text/plain": [
       "<IPython.core.display.HTML object>"
      ]
     },
     "metadata": {},
     "output_type": "display_data"
    },
    {
     "name": "stdout",
     "output_type": "stream",
     "text": [
      "\n",
      "\n",
      "- Bromine (Br)\n",
      "- Carbonyl (C=O)\n",
      "- Chlorine (Cl)\n"
     ]
    }
   ],
   "source": [
    "func_groups = chains.LLMChain(\n",
    "    prompt = prompt_template,\n",
    "    llm = llm\n",
    ")\n",
    "\n",
    "cdk(smiles)\n",
    "print(func_groups.run(smiles))"
   ]
  },
  {
   "cell_type": "code",
   "execution_count": 7,
   "id": "24c5f449-b405-4294-83d8-98f36f0f59f8",
   "metadata": {},
   "outputs": [
    {
     "data": {
      "text/html": [
       "<?xml version='1.0' encoding='UTF-8'?>\n",
       "<!DOCTYPE svg PUBLIC \"-//W3C//DTD SVG 1.1//EN\" \"http://www.w3.org/Graphics/SVG/1.1/DTD/svg11.dtd\">\n",
       "<svg version='1.2' xmlns='http://www.w3.org/2000/svg' xmlns:xlink='http://www.w3.org/1999/xlink' width='250.0mm' height='50.0mm' viewBox='0 0 250.0 50.0'>\n",
       "  <desc>Generated by the Chemistry Development Kit (http://github.com/cdk)</desc>\n",
       "  <g stroke-linecap='round' stroke-linejoin='round' stroke='#000000' stroke-width='.42' fill='#000000'>\n",
       "    <rect x='.0' y='.0' width='250.0' height='50.0' fill='rgba(0,0,0,0.00)' stroke='none'/>\n",
       "    <g id='mol1' class='mol'>\n",
       "      <g id='mol1bnd1' class='bond'>\n",
       "        <line x1='160.14' y1='38.56' x2='160.17' y2='28.4'/>\n",
       "        <line x1='158.51' y1='37.61' x2='158.54' y2='29.33'/>\n",
       "      </g>\n",
       "      <line id='mol1bnd2' class='bond' x1='160.17' y1='28.4' x2='151.39' y2='23.29'/>\n",
       "      <g id='mol1bnd3' class='bond'>\n",
       "        <line x1='151.39' y1='23.29' x2='142.58' y2='28.35'/>\n",
       "        <line x1='151.39' y1='25.17' x2='144.2' y2='29.29'/>\n",
       "      </g>\n",
       "      <line id='mol1bnd4' class='bond' x1='142.58' y1='28.35' x2='133.8' y2='23.25'/>\n",
       "      <g id='mol1bnd5' class='bond'>\n",
       "        <line x1='133.8' y1='23.25' x2='133.8' y2='13.09'/>\n",
       "        <line x1='132.17' y1='22.3' x2='132.17' y2='14.02'/>\n",
       "      </g>\n",
       "      <line id='mol1bnd6' class='bond' x1='133.8' y1='13.09' x2='127.12' y2='9.19'/>\n",
       "      <g id='mol1bnd7' class='bond'>\n",
       "        <line x1='122.88' y1='9.19' x2='116.2' y2='13.09'/>\n",
       "        <line x1='123.7' y1='10.59' x2='117.83' y2='14.02'/>\n",
       "      </g>\n",
       "      <line id='mol1bnd8' class='bond' x1='116.2' y1='13.09' x2='116.2' y2='23.25'/>\n",
       "      <line id='mol1bnd9' class='bond' x1='116.2' y1='23.25' x2='107.42' y2='28.35'/>\n",
       "      <line id='mol1bnd10' class='bond' x1='107.42' y1='28.35' x2='107.46' y2='38.51'/>\n",
       "      <line id='mol1bnd11' class='bond' x1='107.46' y1='38.51' x2='98.68' y2='43.61'/>\n",
       "      <line id='mol1bnd12' class='bond' x1='98.68' y1='43.61' x2='89.86' y2='38.56'/>\n",
       "      <line id='mol1bnd13' class='bond' x1='89.86' y1='38.56' x2='89.83' y2='28.4'/>\n",
       "      <line id='mol1bnd14' class='bond' x1='89.83' y1='28.4' x2='98.61' y2='23.29'/>\n",
       "      <line id='mol1bnd15' class='bond' x1='107.42' y1='28.35' x2='98.61' y2='23.29'/>\n",
       "      <g id='mol1bnd16' class='bond'>\n",
       "        <line x1='116.2' y1='23.25' x2='125.0' y2='28.25'/>\n",
       "        <line x1='117.83' y1='22.3' x2='125.0' y2='26.38'/>\n",
       "      </g>\n",
       "      <line id='mol1bnd17' class='bond' x1='133.8' y1='23.25' x2='125.0' y2='28.25'/>\n",
       "      <line id='mol1bnd18' class='bond' x1='142.58' y1='28.35' x2='142.54' y2='38.51'/>\n",
       "      <g id='mol1bnd19' class='bond'>\n",
       "        <line x1='142.54' y1='38.51' x2='151.32' y2='43.61'/>\n",
       "        <line x1='144.17' y1='37.58' x2='151.33' y2='41.74'/>\n",
       "      </g>\n",
       "      <line id='mol1bnd20' class='bond' x1='160.14' y1='38.56' x2='151.32' y2='43.61'/>\n",
       "      <path id='mol1atm7' class='atom' d='M123.6 6.1h.67l1.64 3.09v-3.09h.49v3.69h-.68l-1.64 -3.08v3.08h-.48v-3.69z' stroke='none'/>\n",
       "    </g>\n",
       "  </g>\n",
       "</svg>\n"
      ],
      "text/plain": [
       "<IPython.core.display.HTML object>"
      ]
     },
     "metadata": {},
     "output_type": "display_data"
    },
    {
     "name": "stdout",
     "output_type": "stream",
     "text": [
      "\n",
      "\n",
      "-Aromatic ring (c1ccc)\n",
      "-Alkyne (-c2cncc)\n",
      "-Alcohol (C3CCCCC3)\n"
     ]
    }
   ],
   "source": [
    "smiles_2 = \"c1ccc(-c2cncc(C3CCCCC3)c2)cc1\"\n",
    "cdk(smiles_2)\n",
    "print(func_groups.run(smiles_2))"
   ]
  },
  {
   "cell_type": "markdown",
   "id": "ea508055-b999-447d-ad61-dca1380e4279",
   "metadata": {},
   "source": [
    "# Improving prompting: Formatting, in-context learning, etc."
   ]
  },
  {
   "cell_type": "code",
   "execution_count": 8,
   "id": "290abaa2-b158-459a-b418-63dc1331c1d7",
   "metadata": {},
   "outputs": [],
   "source": [
    "prompt_template_2 = PromptTemplate(\n",
    "    input_variables = [\"smiles\"],\n",
    "    template = (\n",
    "        \"You are an expert chemist and your task is to identify the functional groups of the given molecules.\"\\\n",
    "        \"You should give the name and the SMILES of each functional group. Begin!\"\\\n",
    "        \"Input: Brc1cncc(C2CCCCC2)c1\"\\\n",
    "        \"Output: 1. Halogen (Br)\\n 2. Pyridine (c1cnccc1)\\n 3. Cyclohexane (C2CCCCC2)\"\\\n",
    "        \"Input: c1ccccc1CC(=O)Cl\"\\\n",
    "        \"Output: 1. Phenyl (c1ccccc1)\\n 2. Carbonyl (C=O)\\n 3. Acyl halide (C(=O)Cl)\\n 4. Halogen (Cl)\"\\\n",
    "        \"Input: {smiles}\"\\\n",
    "        \"Output:\"\n",
    "    )\n",
    ")\n",
    "\n",
    "func_groups = chains.LLMChain(\n",
    "    prompt = prompt_template_2,\n",
    "    llm = llm\n",
    ")\n",
    "def fcs(smiles):\n",
    "    cdk(smiles)\n",
    "    print(func_groups.run(smiles))"
   ]
  },
  {
   "cell_type": "code",
   "execution_count": 9,
   "id": "46060844-13d6-4471-81bd-17334a5a3222",
   "metadata": {},
   "outputs": [
    {
     "data": {
      "text/html": [
       "<?xml version='1.0' encoding='UTF-8'?>\n",
       "<!DOCTYPE svg PUBLIC \"-//W3C//DTD SVG 1.1//EN\" \"http://www.w3.org/Graphics/SVG/1.1/DTD/svg11.dtd\">\n",
       "<svg version='1.2' xmlns='http://www.w3.org/2000/svg' xmlns:xlink='http://www.w3.org/1999/xlink' width='250.0mm' height='50.0mm' viewBox='0 0 250.0 50.0'>\n",
       "  <desc>Generated by the Chemistry Development Kit (http://github.com/cdk)</desc>\n",
       "  <g stroke-linecap='round' stroke-linejoin='round' stroke='#000000' stroke-width='.42' fill='#000000'>\n",
       "    <rect x='.0' y='.0' width='250.0' height='50.0' fill='rgba(0,0,0,0.00)' stroke='none'/>\n",
       "    <g id='mol1' class='mol'>\n",
       "      <line id='mol1bnd1' class='bond' x1='108.66' y1='20.1' x2='100.87' y2='15.59'/>\n",
       "      <g id='mol1bnd2' class='bond'>\n",
       "        <line x1='117.47' y1='15.02' x2='108.66' y2='20.1'/>\n",
       "        <line x1='117.47' y1='16.89' x2='110.29' y2='21.04'/>\n",
       "      </g>\n",
       "      <line id='mol1bnd3' class='bond' x1='117.47' y1='15.02' x2='126.28' y2='20.1'/>\n",
       "      <g id='mol1bnd4' class='bond'>\n",
       "        <line x1='126.28' y1='30.26' x2='126.28' y2='20.1'/>\n",
       "        <line x1='124.65' y1='29.32' x2='124.65' y2='21.04'/>\n",
       "      </g>\n",
       "      <line id='mol1bnd5' class='bond' x1='126.28' y1='30.26' x2='135.07' y2='35.34'/>\n",
       "      <line id='mol1bnd6' class='bond' x1='135.07' y1='35.34' x2='143.87' y2='30.26'/>\n",
       "      <g id='mol1bnd7' class='bond'>\n",
       "        <line x1='143.87' y1='29.32' x2='150.71' y2='33.27'/>\n",
       "        <line x1='143.06' y1='30.73' x2='149.9' y2='34.68'/>\n",
       "      </g>\n",
       "      <line id='mol1bnd8' class='bond' x1='143.87' y1='30.26' x2='143.87' y2='22.86'/>\n",
       "      <line id='mol1bnd9' class='bond' x1='126.28' y1='30.26' x2='117.47' y2='35.34'/>\n",
       "      <g id='mol1bnd10' class='bond'>\n",
       "        <line x1='108.66' y1='30.26' x2='117.47' y2='35.34'/>\n",
       "        <line x1='110.29' y1='29.32' x2='117.47' y2='33.46'/>\n",
       "      </g>\n",
       "      <line id='mol1bnd11' class='bond' x1='108.66' y1='20.1' x2='108.66' y2='30.26'/>\n",
       "      <path id='mol1atm2' class='atom' d='M96.12 14.67v1.36h.8q.41 .0 .6 -.17q.19 -.17 .19 -.51q.0 -.35 -.19 -.51q-.19 -.16 -.6 -.16h-.8zM96.12 13.16v1.11h.74q.36 .0 .54 -.14q.18 -.14 .18 -.42q.0 -.28 -.18 -.42q-.18 -.14 -.54 -.14h-.74zM95.62 12.74h1.27q.57 .0 .88 .24q.31 .24 .31 .68q.0 .34 -.16 .54q-.16 .2 -.47 .25q.37 .08 .57 .33q.2 .25 .2 .63q.0 .49 -.34 .76q-.34 .27 -.96 .27h-1.32v-3.69zM100.68 14.09q-.08 -.04 -.17 -.06q-.09 -.02 -.2 -.02q-.38 .0 -.59 .25q-.21 .25 -.21 .72v1.46h-.46v-2.77h.46v.43q.14 -.26 .37 -.38q.23 -.12 .56 -.12q.05 .0 .1 .01q.05 .01 .13 .02v.47z' stroke='none'/>\n",
       "      <path id='mol1atm8' class='atom' d='M152.67 33.83q-.55 .0 -.87 .4q-.32 .4 -.32 1.1q.0 .7 .32 1.1q.32 .4 .87 .4q.54 .0 .86 -.4q.32 -.4 .32 -1.1q.0 -.7 -.32 -1.1q-.32 -.4 -.86 -.4zM152.67 33.43q.77 .0 1.24 .52q.47 .52 .47 1.39q.0 .88 -.47 1.4q-.47 .52 -1.24 .52q-.78 .0 -1.24 -.52q-.47 -.52 -.47 -1.4q.0 -.87 .47 -1.39q.47 -.52 1.24 -.52z' stroke='none'/>\n",
       "      <path id='mol1atm9' class='atom' d='M145.36 18.54v.53q-.26 -.24 -.54 -.35q-.28 -.12 -.61 -.12q-.63 .0 -.97 .39q-.34 .39 -.34 1.12q.0 .73 .34 1.12q.34 .39 .97 .39q.32 .0 .61 -.12q.28 -.12 .54 -.35v.52q-.26 .18 -.55 .27q-.29 .09 -.62 .09q-.84 .0 -1.32 -.51q-.48 -.51 -.48 -1.4q.0 -.89 .48 -1.4q.48 -.51 1.32 -.51q.33 .0 .62 .09q.29 .09 .55 .26zM146.11 18.1h.46v3.84h-.46v-3.84z' stroke='none'/>\n",
       "    </g>\n",
       "  </g>\n",
       "</svg>\n"
      ],
      "text/plain": [
       "<IPython.core.display.HTML object>"
      ]
     },
     "metadata": {},
     "output_type": "display_data"
    },
    {
     "name": "stdout",
     "output_type": "stream",
     "text": [
      " 1. Halogen (Br)\n",
      " 2. Phenyl (c1ccccc1)\n",
      " 3. Carbonyl (C=O)\n",
      " 4. Acyl halide (C(=O)Cl)\n",
      " 5. Halogen (Cl)\n"
     ]
    },
    {
     "data": {
      "text/html": [
       "<?xml version='1.0' encoding='UTF-8'?>\n",
       "<!DOCTYPE svg PUBLIC \"-//W3C//DTD SVG 1.1//EN\" \"http://www.w3.org/Graphics/SVG/1.1/DTD/svg11.dtd\">\n",
       "<svg version='1.2' xmlns='http://www.w3.org/2000/svg' xmlns:xlink='http://www.w3.org/1999/xlink' width='250.0mm' height='50.0mm' viewBox='0 0 250.0 50.0'>\n",
       "  <desc>Generated by the Chemistry Development Kit (http://github.com/cdk)</desc>\n",
       "  <g stroke-linecap='round' stroke-linejoin='round' stroke='#000000' stroke-width='.42' fill='#000000'>\n",
       "    <rect x='.0' y='.0' width='250.0' height='50.0' fill='rgba(0,0,0,0.00)' stroke='none'/>\n",
       "    <g id='mol1' class='mol'>\n",
       "      <g id='mol1bnd1' class='bond'>\n",
       "        <line x1='160.14' y1='38.56' x2='160.17' y2='28.4'/>\n",
       "        <line x1='158.51' y1='37.61' x2='158.54' y2='29.33'/>\n",
       "      </g>\n",
       "      <line id='mol1bnd2' class='bond' x1='160.17' y1='28.4' x2='151.39' y2='23.29'/>\n",
       "      <g id='mol1bnd3' class='bond'>\n",
       "        <line x1='151.39' y1='23.29' x2='142.58' y2='28.35'/>\n",
       "        <line x1='151.39' y1='25.17' x2='144.2' y2='29.29'/>\n",
       "      </g>\n",
       "      <line id='mol1bnd4' class='bond' x1='142.58' y1='28.35' x2='133.8' y2='23.25'/>\n",
       "      <g id='mol1bnd5' class='bond'>\n",
       "        <line x1='133.8' y1='23.25' x2='133.8' y2='13.09'/>\n",
       "        <line x1='132.17' y1='22.3' x2='132.17' y2='14.02'/>\n",
       "      </g>\n",
       "      <line id='mol1bnd6' class='bond' x1='133.8' y1='13.09' x2='127.12' y2='9.19'/>\n",
       "      <g id='mol1bnd7' class='bond'>\n",
       "        <line x1='122.88' y1='9.19' x2='116.2' y2='13.09'/>\n",
       "        <line x1='123.7' y1='10.59' x2='117.83' y2='14.02'/>\n",
       "      </g>\n",
       "      <line id='mol1bnd8' class='bond' x1='116.2' y1='13.09' x2='116.2' y2='23.25'/>\n",
       "      <line id='mol1bnd9' class='bond' x1='116.2' y1='23.25' x2='107.42' y2='28.35'/>\n",
       "      <line id='mol1bnd10' class='bond' x1='107.42' y1='28.35' x2='107.46' y2='38.51'/>\n",
       "      <line id='mol1bnd11' class='bond' x1='107.46' y1='38.51' x2='98.68' y2='43.61'/>\n",
       "      <line id='mol1bnd12' class='bond' x1='98.68' y1='43.61' x2='89.86' y2='38.56'/>\n",
       "      <line id='mol1bnd13' class='bond' x1='89.86' y1='38.56' x2='89.83' y2='28.4'/>\n",
       "      <line id='mol1bnd14' class='bond' x1='89.83' y1='28.4' x2='98.61' y2='23.29'/>\n",
       "      <line id='mol1bnd15' class='bond' x1='107.42' y1='28.35' x2='98.61' y2='23.29'/>\n",
       "      <g id='mol1bnd16' class='bond'>\n",
       "        <line x1='116.2' y1='23.25' x2='125.0' y2='28.25'/>\n",
       "        <line x1='117.83' y1='22.3' x2='125.0' y2='26.38'/>\n",
       "      </g>\n",
       "      <line id='mol1bnd17' class='bond' x1='133.8' y1='23.25' x2='125.0' y2='28.25'/>\n",
       "      <line id='mol1bnd18' class='bond' x1='142.58' y1='28.35' x2='142.54' y2='38.51'/>\n",
       "      <g id='mol1bnd19' class='bond'>\n",
       "        <line x1='142.54' y1='38.51' x2='151.32' y2='43.61'/>\n",
       "        <line x1='144.17' y1='37.58' x2='151.33' y2='41.74'/>\n",
       "      </g>\n",
       "      <line id='mol1bnd20' class='bond' x1='160.14' y1='38.56' x2='151.32' y2='43.61'/>\n",
       "      <path id='mol1atm7' class='atom' d='M123.6 6.1h.67l1.64 3.09v-3.09h.49v3.69h-.68l-1.64 -3.08v3.08h-.48v-3.69z' stroke='none'/>\n",
       "    </g>\n",
       "  </g>\n",
       "</svg>\n"
      ],
      "text/plain": [
       "<IPython.core.display.HTML object>"
      ]
     },
     "metadata": {},
     "output_type": "display_data"
    },
    {
     "name": "stdout",
     "output_type": "stream",
     "text": [
      " 1. Phenyl (c1ccccc1)\n",
      " 2. Pyridine (c2cnccc2)\n",
      " 3. Cyclohexane (C3CCCCC3)\n",
      " 4. Alkene (-c2cnccc2)\n"
     ]
    },
    {
     "data": {
      "text/html": [
       "<?xml version='1.0' encoding='UTF-8'?>\n",
       "<!DOCTYPE svg PUBLIC \"-//W3C//DTD SVG 1.1//EN\" \"http://www.w3.org/Graphics/SVG/1.1/DTD/svg11.dtd\">\n",
       "<svg version='1.2' xmlns='http://www.w3.org/2000/svg' xmlns:xlink='http://www.w3.org/1999/xlink' width='250.0mm' height='50.0mm' viewBox='0 0 250.0 50.0'>\n",
       "  <desc>Generated by the Chemistry Development Kit (http://github.com/cdk)</desc>\n",
       "  <g stroke-linecap='round' stroke-linejoin='round' stroke='#000000' stroke-width='.42' fill='#000000'>\n",
       "    <rect x='.0' y='.0' width='250.0' height='50.0' fill='rgba(0,0,0,0.00)' stroke='none'/>\n",
       "    <g id='mol1' class='mol'>\n",
       "      <line id='mol1bnd1' class='bond' x1='143.31' y1='32.59' x2='134.51' y2='27.51'/>\n",
       "      <g id='mol1bnd2' class='bond'>\n",
       "        <line x1='134.51' y1='27.51' x2='125.71' y2='32.59'/>\n",
       "        <line x1='134.51' y1='29.38' x2='127.34' y2='33.52'/>\n",
       "      </g>\n",
       "      <line id='mol1bnd3' class='bond' x1='125.71' y1='32.59' x2='116.91' y2='27.51'/>\n",
       "      <g id='mol1bnd4' class='bond'>\n",
       "        <line x1='117.72' y1='27.97' x2='110.88' y2='31.92'/>\n",
       "        <line x1='116.91' y1='26.57' x2='110.07' y2='30.52'/>\n",
       "      </g>\n",
       "      <line id='mol1bnd5' class='bond' x1='116.91' y1='27.51' x2='116.91' y2='20.03'/>\n",
       "      <path id='mol1atm5' class='atom' d='M108.12 31.08q-.55 .0 -.87 .4q-.32 .4 -.32 1.1q.0 .7 .32 1.1q.32 .4 .87 .4q.54 .0 .86 -.4q.32 -.4 .32 -1.1q.0 -.7 -.32 -1.1q-.32 -.4 -.86 -.4zM108.12 30.67q.77 .0 1.24 .52q.47 .52 .47 1.39q.0 .88 -.47 1.4q-.47 .52 -1.24 .52q-.78 .0 -1.24 -.52q-.47 -.52 -.47 -1.4q.0 -.87 .47 -1.39q.47 -.52 1.24 -.52z' stroke='none'/>\n",
       "      <path id='mol1atm6' class='atom' d='M116.66 15.5h.5v3.69h-.5v-3.69z' stroke='none'/>\n",
       "    </g>\n",
       "  </g>\n",
       "</svg>\n"
      ],
      "text/plain": [
       "<IPython.core.display.HTML object>"
      ]
     },
     "metadata": {},
     "output_type": "display_data"
    },
    {
     "name": "stdout",
     "output_type": "stream",
     "text": [
      " 1. Alkene (C/C=C/C)\n",
      " 2. Ester (C(=O)I)\n",
      " 3. Halogen (I)\n"
     ]
    },
    {
     "data": {
      "text/html": [
       "<?xml version='1.0' encoding='UTF-8'?>\n",
       "<!DOCTYPE svg PUBLIC \"-//W3C//DTD SVG 1.1//EN\" \"http://www.w3.org/Graphics/SVG/1.1/DTD/svg11.dtd\">\n",
       "<svg version='1.2' xmlns='http://www.w3.org/2000/svg' xmlns:xlink='http://www.w3.org/1999/xlink' width='250.0mm' height='50.0mm' viewBox='0 0 250.0 50.0'>\n",
       "  <desc>Generated by the Chemistry Development Kit (http://github.com/cdk)</desc>\n",
       "  <g stroke-linecap='round' stroke-linejoin='round' stroke='#000000' stroke-width='.42' fill='#000000'>\n",
       "    <rect x='.0' y='.0' width='250.0' height='50.0' fill='rgba(0,0,0,0.00)' stroke='none'/>\n",
       "    <g id='mol1' class='mol'>\n",
       "      <line id='mol1bnd1' class='bond' x1='144.72' y1='32.62' x2='135.92' y2='27.54'/>\n",
       "      <g id='mol1bnd2' class='bond'>\n",
       "        <line x1='135.92' y1='27.54' x2='127.12' y2='32.62'/>\n",
       "        <line x1='135.92' y1='29.42' x2='128.75' y2='33.56'/>\n",
       "      </g>\n",
       "      <line id='mol1bnd3' class='bond' x1='127.12' y1='32.62' x2='118.32' y2='27.54'/>\n",
       "      <g id='mol1bnd4' class='bond'>\n",
       "        <line x1='117.51' y1='28.01' x2='117.51' y2='20.14'/>\n",
       "        <line x1='119.14' y1='28.01' x2='119.14' y2='20.14'/>\n",
       "      </g>\n",
       "      <line id='mol1bnd5' class='bond' x1='118.32' y1='27.54' x2='111.44' y2='31.52'/>\n",
       "      <path id='mol1atm5' class='atom' d='M118.33 15.87q-.55 .0 -.87 .4q-.32 .4 -.32 1.1q.0 .7 .32 1.1q.32 .4 .87 .4q.54 .0 .86 -.4q.32 -.4 .32 -1.1q.0 -.7 -.32 -1.1q-.32 -.4 -.86 -.4zM118.33 15.46q.77 .0 1.24 .52q.47 .52 .47 1.39q.0 .88 -.47 1.4q-.47 .52 -1.24 .52q-.78 .0 -1.24 -.52q-.47 -.52 -.47 -1.4q.0 -.87 .47 -1.39q.47 -.52 1.24 -.52z' stroke='none'/>\n",
       "      <g id='mol1atm6' class='atom'>\n",
       "        <path d='M110.6 30.89v.49q-.28 -.13 -.53 -.2q-.25 -.07 -.49 -.07q-.41 .0 -.63 .16q-.22 .16 -.22 .45q.0 .24 .15 .37q.15 .12 .56 .2l.3 .06q.55 .11 .82 .38q.27 .27 .27 .72q.0 .54 -.36 .81q-.36 .28 -1.06 .28q-.26 .0 -.56 -.06q-.29 -.06 -.61 -.18v-.51q.3 .17 .6 .26q.29 .09 .57 .09q.43 .0 .66 -.17q.23 -.17 .23 -.48q.0 -.27 -.17 -.43q-.17 -.15 -.54 -.23l-.3 -.06q-.56 -.11 -.81 -.35q-.25 -.24 -.25 -.66q.0 -.49 .34 -.78q.34 -.28 .95 -.28q.26 .0 .53 .05q.27 .05 .55 .14z' stroke='none'/>\n",
       "        <path d='M104.99 30.77h.5v1.51h1.81v-1.51h.5v3.69h-.5v-1.76h-1.81v1.76h-.5v-3.69z' stroke='none'/>\n",
       "      </g>\n",
       "    </g>\n",
       "  </g>\n",
       "</svg>\n"
      ],
      "text/plain": [
       "<IPython.core.display.HTML object>"
      ]
     },
     "metadata": {},
     "output_type": "display_data"
    },
    {
     "name": "stdout",
     "output_type": "stream",
     "text": [
      " 1. Alkene (C/C=C/C)\n",
      " 2. Thioester (C(=O)S)\n"
     ]
    }
   ],
   "source": [
    "smiles_list = [\n",
    "    smiles,\n",
    "    smiles_2,\n",
    "    \"C/C=C/C(=O)I\",\n",
    "    \"C/C=C/C(=O)S\"\n",
    "]\n",
    "\n",
    "for s in smiles_list:\n",
    "    fcs(s)"
   ]
  },
  {
   "cell_type": "markdown",
   "id": "f4089a71-a9bd-410d-8e40-d6463b3f1b8b",
   "metadata": {},
   "source": [
    "# Agents:\n",
    "\n",
    "We would like to integrate other things:\n",
    "- User input\n",
    "- External knowledge sources\n",
    "- External tools\n",
    "- Memory storage\n",
    "- ..."
   ]
  },
  {
   "cell_type": "code",
   "execution_count": 10,
   "id": "e6269958-1e93-4e4c-a434-bebb8c2da3e5",
   "metadata": {},
   "outputs": [
    {
     "data": {
      "text/plain": [
       "'Page: Ozzy Osbourne\\nSummary: John Michael \"Ozzy\" Osbourne (born 3 December 1948) is an English singer, songwriter, and television personality. He rose to prominence during the 1970s as the lead vocalist of the heavy metal band Black Sabbath, during which period he adopted the nickname \"Prince of Darkness\".Born and raised in Birmingham, Osbourne became a founding member of Black Sabbath in 1968, and provided lead vocals from their self-titled debut album in 1970 to Never Say Die! in 1978. The band was highly influential on the development of heavy metal music, in particular their critically acclaimed releases Paranoid, Master of Reality and Sabbath Bloody Sabbath. Osbourne was fired from Black Sabbath in 1979 due to alcohol and drug problems, but went on to have a successful solo career, releasing 13 studio albums, the first seven of which received multi-platinum certifications in the US. Osbourne has since reunited with Black Sabbath on several occasions. He rejoined in 1997 and helped record the group\\'s final studio album, 13 (2013), before they embarked on a farewell tour that ended with a February 2017 performance in their hometown, Birmingham. His longevity and success have earned him the informal title \"Godfather of Metal\".Osbourne\\'s total album sales from his years in Black Sabbath, combined with his solo work, are over 100 million. He was inducted into the Rock and Roll Hall of Fame as a member of Black Sabbath and into the UK Music Hall of Fame as a solo artist and as a member of the band. He has been honoured with stars on the Hollywood Walk of Fame and Birmingham Walk of Stars. At the 2014 MTV Europe Music Awards, he received the Global Icon Award. In 2015, Osbourne received the Ivor Novello Award for Lifetime Achievement from the British Academy of Songwriters, Composers and Authors.\\nIn the early 2000s, Osbourne became a reality television star, appearing as himself in the MTV reality show The Osbournes alongside wife and manager Sharon and two of their three children, Kelly and Jack. He co-stars with Jack and Kelly in the television series  Ozzy & Jack\\'s World Detour. The show\\'s third season debuted in June 2018.\\n\\n\\n\\nPage: Ozzy Osbourne discography\\nSummary: The discography of Ozzy Osbourne, an English heavy metal vocalist, consists of 13 studio albums, five live albums, seven compilation albums, five extended plays (EPs), 65 singles, nine video albums and 41 music videos. After being fired from Black Sabbath in 1979, Osbourne started his solo career with a band consisting of guitarist Randy Rhoads, bassist Bob Daisley and drummer Lee Kerslake. The group released their debut album Blizzard of Ozz in 1980, which reached number 7 on the UK Albums Chart, number 8 on the Canadian Albums Chart, and number 21 on the US Billboard 200. Singles \"Crazy Train\" and \"Mr Crowley\" reached the top 50 of the UK Singles Chart, and the album has been certified four times platinum by the Recording Industry Association of America (RIAA). 1981\\'s Diary of a Madman reached the top 20 in the UK, Canada and the US, and was certified triple platinum by the RIAA. The album was the last to feature Daisley and Kerslake, both of whom were fired before its release and replaced by Rudy Sarzo and Tommy Aldridge, respectively, as well as the last to feature Rhoads, who died in a plane crash on 19 March 1982.Osbourne\\'s first live album Speak of the Devil, featuring touring guitarist Brad Gillis, reached number 21 in the UK and number 14 in the US. Jake E. Lee joined in 1983, with Bark at the Moon released later in the year. The album reached number 24 in the UK and number 19 in the US, spawning UK top 40 singles \"Bark at the Moon\" and \"So Tired\". The Ultimate Sin followed in 1986, reaching the top ten in the UK and the US. Lead single \"Shot in the Dark\" reached number 20 on the UK Singles Chart and number 68 on the Billboard Hot 100. The 1987 live album Tribute charted in the top 20 in the UK and the top ten in the US. After Lee was replaced by Zakk Wylde, No Rest for the Wicked was released in 1988 and reached number 23 in the UK and number 13 in the US. The following year, Osbourne reached the top ten of the Hot 100 with Lita Ford on \"Close My Eyes Forever\", peaking at number 8. 1991\\'s No More Tears reached the UK top 20, the US top ten, and was certified four times platinum by the RIAA. Singles \"No More Tears\" and \"Mama, I\\'m Coming Home\" both reached the UK top 50 and charted on the Billboard Hot 100. In 1992, Osbourne reached the UK Singles Chart top ten for the first time with Was (Not Was) and Kim Basinger on \"Shake Your Head\", which peaked at number 4.After briefly retiring, Osbourne returned with Ozzmosis in 1995, which was his first album to reach the top five of the Billboard 200 when it peaked at number 4. Lead single \"Perry Mason\" reached number 23 on the UK Singles Chart. 1997 compilation The Ozzman Cometh reached the US top 20 and was certified double platinum. In 2001 he released Down to Earth, which reached number 19 in the UK and number 4 in the US. The album spawned the successful single \"Dreamer\", which was certified gold in Austria and Germany. In 2003, Osbourne collaborated with daughter Kelly on a recording of Black Sabbath\\'s \"Changes\", which was both artists\\' first (and to date, only) number-one single in the UK. The Essential Ozzy Osbourne was released the same year, reaching number 21 in the UK. In 2005, Osbourne released an album of cover versions entitled Under Cover, which charted in the UK at number 67. 2007\\'s Black Rain reached number 8 in the UK and number 3 in the US, while 2010\\'s Scream reached number 12 in the UK and number 4 in the US. The compilation Memoirs Of A Madman charted in the UK at number 23 in 2014.As of 2014, Osbourne has sold more than 100 million albums worldwide, including those during his time in Black Sabbath.\\n\\nPage: Sharon Osbourne\\nSummary: Sharon Rachel Osbourne (née Levy, later Arden; born 9 October 1952) is a British-American television personality, music manager, and author. She is married to heavy metal singer-songwriter Ozzy Osbourne and came to prominence while appearing on The Osbournes (2002–2005), a reality television show that aired on MTV, which followed her family\\'s daily life. Osbourne later became a talent show judge on the television shows The X Factor (2004–2007, 2013, 2016–2017) and America\\'s Got Talent (2007–2012).\\nOsbourne is credited with reviving her husband\\'s heavy metal career by founding the summer Ozzfest tour, which was held almost annually between 1996 and 2018. From 2003 to 2006, she hosted her own television talk show The Sharon Osbourne Show, which was syndicated to various US channels and also shown in the UK on Sky One. In 2010, Osbourne was a contestant on NBC\\'s The Celebrity Apprentice, and became a co-host on the CBS talk show The Talk, hosting until her termination in 2021. In 2022, she joined TalkTV, hosting a prime time show also titled The Talk.Osbourne has released three autobiographies and two novels. Her first autobiography, Extreme, debuted at number one on the Sunday Times best-seller list and went on to become the most successful female autobiography ever.Osbourne holds both British and American citizenship and has resided in the United States with her husband since 2002.\\n\\n'"
      ]
     },
     "execution_count": 10,
     "metadata": {},
     "output_type": "execute_result"
    }
   ],
   "source": [
    "# Let's define a tool!\n",
    "from langchain.utilities import WikipediaAPIWrapper\n",
    "\n",
    "wikipedia = WikipediaAPIWrapper()\n",
    "wikipedia.run(\"Ozzy Osbourne\")"
   ]
  },
  {
   "cell_type": "code",
   "execution_count": 11,
   "id": "183bfb50-6979-49d1-853b-2b09fa46c555",
   "metadata": {},
   "outputs": [],
   "source": [
    "from langchain.agents import initialize_agent, Tool\n",
    "\n",
    "# Define a toolset \n",
    "toolset = [\n",
    "    Tool(\n",
    "        name=\"wikipedia search\",\n",
    "        func=wikipedia.run,\n",
    "        description=\"Useful to get accurate information from wikipedia.\"\n",
    "    )\n",
    "]\n",
    "\n",
    "# Define an agent\n",
    "jamesbond = initialize_agent(\n",
    "    toolset,\n",
    "    llm,\n",
    "    agent=\"zero-shot-react-description\",\n",
    "    verbose=True\n",
    ")"
   ]
  },
  {
   "cell_type": "code",
   "execution_count": 12,
   "id": "d60bb0e2-a077-4f25-ac61-ce845280f284",
   "metadata": {},
   "outputs": [
    {
     "name": "stdout",
     "output_type": "stream",
     "text": [
      "\n",
      "\n",
      "\u001b[1m> Entering new AgentExecutor chain...\u001b[0m\n",
      "\u001b[32;1m\u001b[1;3m I need to research the functional groups of this molecule\n",
      "Action: wikipedia search\n",
      "Action Input: functional groups of c1(Br)ccc(CC(=O)Cl)cc1\u001b[0m\n",
      "Observation: \u001b[36;1m\u001b[1;3mPage: Clofazimine\n",
      "Summary: Clofazimine, sold under the brand name Lamprene, is a medication used together with rifampicin and dapsone to treat leprosy. It is specifically used for multibacillary (MB) leprosy and erythema nodosum leprosum. Evidence is insufficient to support its use in other conditions though a retrospective study found it 95% effective in the treatment of Mycobacterium avium complex (MAC) when administered with a macrolide and ethambutol, as well as the drugs amikacin and clarithromycin. However, in the United States, clofazimine is considered an orphan drug, is unavailable in pharmacies, and its use in the treatment of MAC is overseen by the Food and Drug Administration. It is taken orally.Common side effects include abdominal pain, diarrhea, itchiness, dry skin, and change in skin color. It can also cause swelling of the lining of the gastrointestinal tract, increased blood sugar, and sensitivity to the sun. It is unclear if use during pregnancy is safe. Clofazimine is a phenazine dye and is believed to work by interfering with DNA.Clofazimine was discovered in the 1950s at Trinity College, Dublin, and approved for medical use in the United States in 1986. It is on the World Health Organization's List of Essential Medicines. In the United States it is not available commercially but can be obtained from the US Department of Health and Human Services.\n",
      "\n",
      "\n",
      "\n",
      "Page: Suramin\n",
      "Summary: Suramin is a medication used to treat African sleeping sickness and river blindness. It is the treatment of choice for sleeping sickness without central nervous system involvement. It is given by injection into a vein.Suramin causes a fair number of side effects. Common side effects include nausea, vomiting, diarrhea, headache, skin tingling, and weakness. Sore palms of the hands and soles of the feet, trouble seeing, fever, and abdominal pain may also occur. Severe side effects may include low blood pressure, decreased level of consciousness, kidney problems, and low blood cell levels. It is unclear if it is safe when breastfeeding.Suramin was made at least as early as 1916. It is on the World Health Organization's List of Essential Medicines. In the United States it can be acquired from the Centers for Disease Control (CDC).  In regions of the world where the disease is common suramin is provided for free by the World Health Organization (WHO).\n",
      "\n",
      "Page: Cyclopentadienyliron dicarbonyl dimer\n",
      "Summary: Cyclopentadienyliron dicarbonyl dimer is an organometallic compound with the formula [(η5-C5H5)Fe(CO)2]2, often abbreviated to Cp2Fe2(CO)4, [CpFe(CO)2]2 or even Fp2, with the colloquial name \"fip dimer\". It is a dark reddish-purple crystalline solid, which is readily soluble in moderately polar organic solvents such as chloroform and pyridine, but less soluble in carbon tetrachloride and carbon disulfide. Cp2Fe2(CO)4 is insoluble in but stable toward water.  Cp2Fe2(CO)4 is reasonably stable to storage under air and serves as a convenient starting material for accessing other Fp (CpFe(CO)2) derivatives (described below).\n",
      "\n",
      "\u001b[0m\n",
      "Thought:\u001b[32;1m\u001b[1;3m I now know the functional groups of this molecule\n",
      "Final Answer: The functional groups of c1(Br)ccc(CC(=O)Cl)cc1 are a bromine, a chlorine, a carbonyl, and a cyclopentadienyliron dicarbonyl dimer.\u001b[0m\n",
      "\n",
      "\u001b[1m> Finished chain.\u001b[0m\n"
     ]
    },
    {
     "data": {
      "text/plain": [
       "'The functional groups of c1(Br)ccc(CC(=O)Cl)cc1 are a bromine, a chlorine, a carbonyl, and a cyclopentadienyliron dicarbonyl dimer.'"
      ]
     },
     "execution_count": 12,
     "metadata": {},
     "output_type": "execute_result"
    }
   ],
   "source": [
    "jamesbond.run(f\"What are the functional groups of {smiles}\")"
   ]
  },
  {
   "cell_type": "markdown",
   "id": "ac9aa90c-2967-4849-bfd6-d7c4a59fbf3c",
   "metadata": {},
   "source": [
    "# Probably not the most useful tool for this task..."
   ]
  },
  {
   "cell_type": "code",
   "execution_count": 13,
   "id": "52793ce9-7400-461b-a81e-51588704bb31",
   "metadata": {},
   "outputs": [],
   "source": [
    "from linuslingo.mol_utils.generals import list_functional_groups\n",
    "\n",
    "toolset += [\n",
    "    Tool(\n",
    "        name=\"Get functional groups\",\n",
    "        func=list_functional_groups,\n",
    "        description=\"Use this tool to find the functional groups of some molecule. Input the smiles string of a single molecule.\"\n",
    "    )\n",
    "]\n",
    "\n",
    "\n",
    "# Define an agent\n",
    "jamesbond = initialize_agent(\n",
    "    toolset,\n",
    "    llm,\n",
    "    agent=\"zero-shot-react-description\",\n",
    "    verbose=True\n",
    ")"
   ]
  },
  {
   "cell_type": "code",
   "execution_count": 14,
   "id": "77eb1e82-d53a-4de1-b133-04b67b027edd",
   "metadata": {},
   "outputs": [
    {
     "name": "stdout",
     "output_type": "stream",
     "text": [
      "\n",
      "\n",
      "\u001b[1m> Entering new AgentExecutor chain...\u001b[0m\n",
      "\u001b[32;1m\u001b[1;3m I need to find out what the functional groups are\n",
      "Action: Get functional groups\n",
      "Action Input: c1(Br)ccc(CC(=O)Cl)cc1\u001b[0m\n",
      "Observation: \u001b[33;1m\u001b[1;3mThis molecule contains ketones, and halogens.\u001b[0m\n",
      "Thought:\u001b[32;1m\u001b[1;3m I now know the final answer\n",
      "Final Answer: The functional groups of c1(Br)ccc(CC(=O)Cl)cc1 are ketones and halogens.\u001b[0m\n",
      "\n",
      "\u001b[1m> Finished chain.\u001b[0m\n"
     ]
    },
    {
     "data": {
      "text/plain": [
       "'The functional groups of c1(Br)ccc(CC(=O)Cl)cc1 are ketones and halogens.'"
      ]
     },
     "execution_count": 14,
     "metadata": {},
     "output_type": "execute_result"
    }
   ],
   "source": [
    "jamesbond.run(f\"What are the functional groups of {smiles}\")"
   ]
  },
  {
   "cell_type": "markdown",
   "id": "b9ca3259-643e-4d59-be59-2765e2c56dc4",
   "metadata": {},
   "source": [
    "# What's happening behind the courtain?"
   ]
  },
  {
   "cell_type": "code",
   "execution_count": 15,
   "id": "b3553c68-65a6-45ba-8e60-8fbf3570c46e",
   "metadata": {},
   "outputs": [
    {
     "name": "stdout",
     "output_type": "stream",
     "text": [
      "['input', 'agent_scratchpad']\n"
     ]
    }
   ],
   "source": [
    "prompt = jamesbond.agent.create_prompt(toolset)\n",
    "james_prompt = jamesbond.agent.llm_chain.prompt\n",
    "\n",
    "print(james_prompt.input_variables)"
   ]
  },
  {
   "cell_type": "code",
   "execution_count": 16,
   "id": "b3e254c0-e76a-4084-9c76-b3875dd8527d",
   "metadata": {},
   "outputs": [
    {
     "name": "stdout",
     "output_type": "stream",
     "text": [
      "Answer the following questions as best you can. You have access to the following tools:\n",
      "\n",
      "wikipedia search: Useful to get accurate information from wikipedia.\n",
      "Get functional groups: Use this tool to find the functional groups of some molecule. Input the smiles string of a single molecule.\n",
      "\n",
      "Use the following format:\n",
      "\n",
      "Question: the input question you must answer\n",
      "Thought: you should always think about what to do\n",
      "Action: the action to take, should be one of [wikipedia search, Get functional groups]\n",
      "Action Input: the input to the action\n",
      "Observation: the result of the action\n",
      "... (this Thought/Action/Action Input/Observation can repeat N times)\n",
      "Thought: I now know the final answer\n",
      "Final Answer: the final answer to the original input question\n",
      "\n",
      "Begin!\n",
      "\n",
      "Question: {input}\n",
      "Thought:{agent_scratchpad}\n"
     ]
    }
   ],
   "source": [
    "print(james_prompt.template)"
   ]
  },
  {
   "cell_type": "markdown",
   "id": "2b4a455e-93a1-4d3e-ad33-6145c05a17d8",
   "metadata": {},
   "source": [
    "# A more useful agent"
   ]
  },
  {
   "cell_type": "code",
   "execution_count": 20,
   "id": "027bd269-25fe-4155-9bd8-692e9206e9ed",
   "metadata": {},
   "outputs": [
    {
     "name": "stdout",
     "output_type": "stream",
     "text": [
      "\n",
      "\n",
      "\u001b[1m> Entering new AgentExecutor chain...\u001b[0m\n",
      "\u001b[32;1m\u001b[1;3mI need to find the smiles of each molecule first. I will start with caffeine.\n",
      "Action: Get smiles of molecule\n",
      "Action Input: caffeine\u001b[0m\n",
      "Observation: \u001b[36;1m\u001b[1;3mCn1c(=O)c2c(ncn2C)n(C)c1=O\u001b[0m\n",
      "Thought:\u001b[32;1m\u001b[1;3mNow I have the smiles of caffeine, I will find the functional groups of caffeine.\n",
      "Action: Get functional groups\n",
      "Action Input: Cn1c(=O)c2c(ncn2C)n(C)c1=O\u001b[0m\n",
      "Observation: \u001b[33;1m\u001b[1;3mThis molecule contains ketones.\u001b[0m\n",
      "Thought:\u001b[32;1m\u001b[1;3mI have found the functional groups of caffeine. Now I will find the smiles of p-bromobenzaldehyde.\n",
      "Action: Get smiles of molecule\n",
      "Action Input: p-bromobenzaldehyde\u001b[0m\n",
      "Observation: \u001b[36;1m\u001b[1;3mO=Cc1ccc(Br)cc1\u001b[0m\n",
      "Thought:\u001b[32;1m\u001b[1;3mNow I have the smiles of p-bromobenzaldehyde, I will find the functional groups of p-bromobenzaldehyde.\n",
      "Action: Get functional groups\n",
      "Action Input: O=Cc1ccc(Br)cc1\u001b[0m\n",
      "Observation: \u001b[33;1m\u001b[1;3mThis molecule contains aldehydes, ketones, and halogens.\u001b[0m\n",
      "Thought:\u001b[32;1m\u001b[1;3mI have found the functional groups of p-bromobenzaldehyde. Now I will find the smiles of cyclosarin.\n",
      "Action: Get smiles of molecule\n",
      "Action Input: cyclosarin\u001b[0m\n",
      "Observation: \u001b[36;1m\u001b[1;3mCP(=O)(F)OC1CCCCC1\u001b[0m\n",
      "Thought:\u001b[32;1m\u001b[1;3mNow I have the smiles of cyclosarin, I will find the functional groups of cyclosarin.\n",
      "Action: Get functional groups\n",
      "Action Input: CP(=O)(F)OC1CCCCC1\u001b[0m\n",
      "Observation: \u001b[33;1m\u001b[1;3mThis molecule contains ketones, and halogens.\u001b[0m\n",
      "Thought:\u001b[32;1m\u001b[1;3mI have found the functional groups of all three molecules. Now I will find what they have in common.\n",
      "Caffeine: ketones\n",
      "p-bromobenzaldehyde: aldehydes, ketones, and halogens\n",
      "cyclosarin: ketones, and halogens\n",
      "\n",
      "The common functional group among these molecules is ketones. Now I will find some information about ketones on Wikipedia.\n",
      "\n",
      "Action: wikipedia search\n",
      "Action Input: ketones\u001b[0m\n",
      "Observation: \u001b[36;1m\u001b[1;3mPage: Ketone\n",
      "Summary: In organic chemistry, a ketone  is a functional group with the structure R−C(=O)−R', where R and R' can be a variety of carbon-containing substituents. Ketones contain a carbonyl group −C(=O)− (which contains a carbon-oxygen double bond C=O). The simplest ketone is acetone (where R and R' is methyl), with the formula (CH3)2CO. Many ketones are of great importance in biology and in industry. Examples include many sugars (ketoses), many steroids (e.g., testosterone), and the solvent acetone.\n",
      "\n",
      "Page: Raspberry ketone\n",
      "Summary: Raspberry ketone is a natural phenolic compound that is the primary aroma compound of red raspberries.\n",
      "\n",
      "Page: Hydroxy ketone\n",
      "Summary: In organic chemistry a hydroxy ketone (often referred to simply as a ketol) is a functional group consisting of a ketone flanked by a hydroxyl group. In the two main classes, the hydroxyl group can be placed in the alpha position (an alpha-hydroxy ketone RCR′(OH)(CO)R) or in the beta position (a beta-hydroxy ketone, RCR′(OH)CR2(CO)R). \n",
      "\n",
      "An α-hydroxy ketone can consist of either a primary alcohol (e.g. hydroxyacetone) or a secondary alcohol; the latter are often broadly referred to as acyloins\n",
      "Prominent β-hydroxy ketones are aldol adducts.\n",
      "Only terminal α-hydroxy ketones can give positive Fehling's test.\u001b[0m\n",
      "Thought:\u001b[32;1m\u001b[1;3mI now know the final answer\n",
      "Final Answer: The common functional group among caffeine, p-bromobenzaldehyde, and cyclosarin is ketones. Ketones are a functional group with the structure R−C(=O)−R', where R and R' can be a variety of carbon-containing substituents. Ketones contain a carbonyl group −C(=O)− (which contains a carbon-oxygen double bond C=O). Many ketones are of great importance in biology and in industry, such as sugars (ketoses), steroids (e.g., testosterone), and the solvent acetone.\u001b[0m\n",
      "\n",
      "\u001b[1m> Finished chain.\u001b[0m\n"
     ]
    }
   ],
   "source": [
    "from linuslingo.mol_utils.generals import (\n",
    "    query2smiles,\n",
    ")\n",
    "\n",
    "toolset += [\n",
    "    Tool(\n",
    "        name=\"Get smiles of molecule\",\n",
    "        func=query2smiles,\n",
    "        description=\"Useful when you need the smiles of a molecule. Input the name of the molecule\"\n",
    "    )\n",
    "]\n",
    "\n",
    "\n",
    "llm = chat_models.ChatOpenAI(\n",
    "    model_name=\"gpt-4\",\n",
    "    temperature=0.03,\n",
    "    openai_api_key = OPENAI_API_KEY,\n",
    ")\n",
    "\n",
    "# Define an agent\n",
    "jamesbond = initialize_agent(\n",
    "    toolset,\n",
    "    llm,\n",
    "    agent=\"zero-shot-react-description\",\n",
    "    verbose=True\n",
    ")\n",
    "\n",
    "final_answer = jamesbond.run(\n",
    "    \"Find the functional groups of cafeine, p-bromobenzaldehyde, and cyclosarin, \"\n",
    "    \"then find what they have in common, and find some information on about it in wikipedia.\"\n",
    ")"
   ]
  },
  {
   "cell_type": "code",
   "execution_count": 21,
   "id": "7282a074-dccd-4f9d-9f3f-1c7027bd61c0",
   "metadata": {},
   "outputs": [
    {
     "name": "stdout",
     "output_type": "stream",
     "text": [
      "The common functional group among caffeine, p-bromobenzaldehyde, and cyclosarin is ketones. Ketones are a functional group with the structure R−C(=O)−R', where R and R' can be a variety of carbon-containing substituents. Ketones contain a carbonyl group −C(=O)− (which contains a carbon-oxygen double bond C=O). Many ketones are of great importance in biology and in industry, such as sugars (ketoses), steroids (e.g., testosterone), and the solvent acetone.\n"
     ]
    }
   ],
   "source": [
    "print(final_answer)"
   ]
  },
  {
   "cell_type": "code",
   "execution_count": null,
   "id": "c71a551c-9d56-424b-a0fc-4c540d61459e",
   "metadata": {},
   "outputs": [],
   "source": []
  }
 ],
 "metadata": {
  "kernelspec": {
   "display_name": "babychem",
   "language": "python",
   "name": "babychem"
  },
  "language_info": {
   "codemirror_mode": {
    "name": "ipython",
    "version": 3
   },
   "file_extension": ".py",
   "mimetype": "text/x-python",
   "name": "python",
   "nbconvert_exporter": "python",
   "pygments_lexer": "ipython3",
   "version": "3.9.16"
  }
 },
 "nbformat": 4,
 "nbformat_minor": 5
}
